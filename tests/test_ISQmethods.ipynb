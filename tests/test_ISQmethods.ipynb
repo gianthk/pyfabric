{
 "cells": [
  {
   "cell_type": "markdown",
   "metadata": {},
   "source": [
    "---\n",
    "## Configuration and imports"
   ]
  },
  {
   "cell_type": "code",
   "execution_count": 1,
   "metadata": {},
   "outputs": [],
   "source": [
    "import os\n",
    "import sys"
   ]
  },
  {
   "cell_type": "code",
   "execution_count": 2,
   "metadata": {},
   "outputs": [],
   "source": [
    "# gianthk@thkdebian\n",
    "sys.path.append('/Volumes/stamplab_terminus/users/giiori/code/recon_utils')\n",
    "sys.path.append('/Volumes/stamplab_terminus/users/giiori/code/pyfabric/tests/')"
   ]
  },
  {
   "cell_type": "code",
   "execution_count": 3,
   "metadata": {},
   "outputs": [],
   "source": [
    "# import recon_utils as ru\n",
    "import numpy as np\n",
    "# import pyfabric\n",
    "import os\n",
    "from ISQmethods import ISQload, readheader"
   ]
  },
  {
   "cell_type": "code",
   "execution_count": 4,
   "metadata": {},
   "outputs": [
    {
     "name": "stdout",
     "output_type": "stream",
     "text": [
      "CTDA\n",
      "{'data_type_id': 1210925396, 'type': 'int16', 'nr_of_bytes': 1162101061, 'x_dim': 139852, 'y_dim': 139852, 'z_dim': 20395, 'x_dim_um': 60, 'y_dim_um': 60, 'z_dim_um': 68413, 'slice_thickness_um': 4294964465, 'slice_increment_um': 12616, 'slice_1_pos_um': 8192, 'min_data_value': 2304, 'max_data_value': 900, 'mu_scaling': 139852, 'nr_of_samples': 9, 'nr_of_projections': 43000, 'scandist_um': 1640, 'scanner_type': 4, 'sampletime_us': 78610, 'index_measurement': 3, 'site': 1444959062, 'reference_line_um': 1701015145, 'recon_alg': 538997870}\n"
     ]
    },
    {
     "ename": "UnicodeDecodeError",
     "evalue": "'utf-8' codec can't decode byte 0xa0 in position 28: invalid start byte",
     "output_type": "error",
     "traceback": [
      "\u001b[0;31m---------------------------------------------------------------------------\u001b[0m",
      "\u001b[0;31mUnicodeDecodeError\u001b[0m                        Traceback (most recent call last)",
      "Cell \u001b[0;32mIn[4], line 8\u001b[0m\n\u001b[1;32m      3\u001b[0m image \u001b[38;5;241m=\u001b[39m \u001b[38;5;124m\"\u001b[39m\u001b[38;5;124mC0001664.ISQ\u001b[39m\u001b[38;5;124m\"\u001b[39m\n\u001b[1;32m      5\u001b[0m \u001b[38;5;66;03m# STORAGE = \"/Volumes/stamplab_terminus/external/tacosound/HR-pQCT_II/1955_L/\"\u001b[39;00m\n\u001b[1;32m      6\u001b[0m \u001b[38;5;66;03m# image = \"C0001577.ISQ\"\u001b[39;00m\n\u001b[0;32m----> 8\u001b[0m tmp \u001b[38;5;241m=\u001b[39m \u001b[43mreadheader\u001b[49m\u001b[43m(\u001b[49m\u001b[43mos\u001b[49m\u001b[38;5;241;43m.\u001b[39;49m\u001b[43mpath\u001b[49m\u001b[38;5;241;43m.\u001b[39;49m\u001b[43mjoin\u001b[49m\u001b[43m(\u001b[49m\u001b[43mSTORAGE\u001b[49m\u001b[43m,\u001b[49m\u001b[43m \u001b[49m\u001b[43mimage\u001b[49m\u001b[43m)\u001b[49m\u001b[43m)\u001b[49m\n",
      "File \u001b[0;32m/Volumes/stamplab_terminus/users/giiori/code/pyfabric/tests/ISQmethods.py:91\u001b[0m, in \u001b[0;36mreadheader\u001b[0;34m(filename, leaveopen)\u001b[0m\n\u001b[1;32m     89\u001b[0m     \u001b[38;5;28;01mif\u001b[39;00m fid:\n\u001b[1;32m     90\u001b[0m         fid\u001b[38;5;241m.\u001b[39mclose()\n\u001b[0;32m---> 91\u001b[0m     \u001b[38;5;28;01mraise\u001b[39;00m e\n\u001b[1;32m     93\u001b[0m \u001b[38;5;28;01mreturn\u001b[39;00m headerinfo\n",
      "File \u001b[0;32m/Volumes/stamplab_terminus/users/giiori/code/pyfabric/tests/ISQmethods.py:70\u001b[0m, in \u001b[0;36mreadheader\u001b[0;34m(filename, leaveopen)\u001b[0m\n\u001b[1;32m     68\u001b[0m headerinfo[\u001b[38;5;124m'\u001b[39m\u001b[38;5;124mrecon_alg\u001b[39m\u001b[38;5;124m'\u001b[39m] \u001b[38;5;241m=\u001b[39m struct\u001b[38;5;241m.\u001b[39munpack(\u001b[38;5;124m'\u001b[39m\u001b[38;5;124mi\u001b[39m\u001b[38;5;124m'\u001b[39m, fid\u001b[38;5;241m.\u001b[39mread(\u001b[38;5;241m4\u001b[39m))[\u001b[38;5;241m0\u001b[39m]\n\u001b[1;32m     69\u001b[0m \u001b[38;5;28mprint\u001b[39m(headerinfo)\n\u001b[0;32m---> 70\u001b[0m headerinfo[\u001b[38;5;124m'\u001b[39m\u001b[38;5;124msamplename\u001b[39m\u001b[38;5;124m'\u001b[39m] \u001b[38;5;241m=\u001b[39m \u001b[43mfid\u001b[49m\u001b[38;5;241;43m.\u001b[39;49m\u001b[43mread\u001b[49m\u001b[43m(\u001b[49m\u001b[38;5;241;43m40\u001b[39;49m\u001b[43m)\u001b[49m\u001b[38;5;241;43m.\u001b[39;49m\u001b[43mdecode\u001b[49m\u001b[43m(\u001b[49m\u001b[38;5;124;43m'\u001b[39;49m\u001b[38;5;124;43mutf-8\u001b[39;49m\u001b[38;5;124;43m'\u001b[39;49m\u001b[43m)\u001b[49m\u001b[38;5;241m.\u001b[39mstrip(\u001b[38;5;124m'\u001b[39m\u001b[38;5;130;01m\\x00\u001b[39;00m\u001b[38;5;124m'\u001b[39m)\n\u001b[1;32m     71\u001b[0m headerinfo[\u001b[38;5;124m'\u001b[39m\u001b[38;5;124menergy\u001b[39m\u001b[38;5;124m'\u001b[39m] \u001b[38;5;241m=\u001b[39m struct\u001b[38;5;241m.\u001b[39munpack(\u001b[38;5;124m'\u001b[39m\u001b[38;5;124mI\u001b[39m\u001b[38;5;124m'\u001b[39m, fid\u001b[38;5;241m.\u001b[39mread(\u001b[38;5;241m4\u001b[39m))[\u001b[38;5;241m0\u001b[39m]\n\u001b[1;32m     72\u001b[0m headerinfo[\u001b[38;5;124m'\u001b[39m\u001b[38;5;124mintensity\u001b[39m\u001b[38;5;124m'\u001b[39m] \u001b[38;5;241m=\u001b[39m struct\u001b[38;5;241m.\u001b[39munpack(\u001b[38;5;124m'\u001b[39m\u001b[38;5;124mI\u001b[39m\u001b[38;5;124m'\u001b[39m, fid\u001b[38;5;241m.\u001b[39mread(\u001b[38;5;241m4\u001b[39m))[\u001b[38;5;241m0\u001b[39m]\n",
      "\u001b[0;31mUnicodeDecodeError\u001b[0m: 'utf-8' codec can't decode byte 0xa0 in position 28: invalid start byte"
     ]
    }
   ],
   "source": [
    "# STORAGE is the location of the data (on terminus, as mounted on Hari)\n",
    "STORAGE = \"/Volumes/stamplab_terminus/external/tacosound/HR-pQCT_II/Vincent_hand\"\n",
    "image = \"C0001664.ISQ\"\n",
    "\n",
    "# STORAGE = \"/Volumes/stamplab_terminus/external/tacosound/HR-pQCT_II/1955_L/\"\n",
    "# image = \"C0001577.ISQ\"\n",
    "\n",
    "tmp = readheader(os.path.join(STORAGE, image))"
   ]
  },
  {
   "cell_type": "code",
   "execution_count": null,
   "metadata": {},
   "outputs": [],
   "source": []
  }
 ],
 "metadata": {
  "kernelspec": {
   "display_name": "Python 3",
   "language": "python",
   "name": "python3"
  },
  "language_info": {
   "codemirror_mode": {
    "name": "ipython",
    "version": 3
   },
   "file_extension": ".py",
   "mimetype": "text/x-python",
   "name": "python",
   "nbconvert_exporter": "python",
   "pygments_lexer": "ipython3",
   "version": "3.11.10"
  }
 },
 "nbformat": 4,
 "nbformat_minor": 2
}
